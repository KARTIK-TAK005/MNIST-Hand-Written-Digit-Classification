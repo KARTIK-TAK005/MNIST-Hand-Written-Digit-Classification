{
 "cells": [
  {
   "cell_type": "code",
   "execution_count": 1,
   "id": "0f7e00c7",
   "metadata": {},
   "outputs": [],
   "source": [
    "#hand digit classification"
   ]
  },
  {
   "cell_type": "code",
   "execution_count": 2,
   "id": "71311134",
   "metadata": {},
   "outputs": [],
   "source": [
    "import warnings\n",
    "warnings.filterwarnings('ignore')"
   ]
  },
  {
   "cell_type": "code",
   "execution_count": 3,
   "id": "7a1917d5",
   "metadata": {},
   "outputs": [
    {
     "name": "stdout",
     "output_type": "stream",
     "text": [
      "WARNING:tensorflow:From /var/folders/7z/2ytgr4j16lg02zx_3cn2m5pc0000gn/T/ipykernel_14135/2375492955.py:4: The name tf.logging.set_verbosity is deprecated. Please use tf.compat.v1.logging.set_verbosity instead.\n",
      "\n",
      "WARNING:tensorflow:From /var/folders/7z/2ytgr4j16lg02zx_3cn2m5pc0000gn/T/ipykernel_14135/2375492955.py:4: The name tf.logging.ERROR is deprecated. Please use tf.compat.v1.logging.ERROR instead.\n",
      "\n"
     ]
    }
   ],
   "source": [
    "#loading the dataset\n",
    "import tensorflow as tf\n",
    "from tensorflow.examples.tutorials.mnist import input_data\n",
    "tf.logging.set_verbosity(tf.logging.ERROR)\n",
    "\n",
    "import matplotlib.pyplot as plt\n",
    "%matplotlib inline"
   ]
  },
  {
   "cell_type": "code",
   "execution_count": 4,
   "id": "3fc93b62",
   "metadata": {},
   "outputs": [
    {
     "name": "stdout",
     "output_type": "stream",
     "text": [
      "Extracting data/mnist/train-images-idx3-ubyte.gz\n",
      "Extracting data/mnist/train-labels-idx1-ubyte.gz\n",
      "Extracting data/mnist/t10k-images-idx3-ubyte.gz\n",
      "Extracting data/mnist/t10k-labels-idx1-ubyte.gz\n"
     ]
    }
   ],
   "source": [
    "mnist = input_data.read_data_sets(\"data/mnist\", one_hot=True)"
   ]
  },
  {
   "cell_type": "code",
   "execution_count": 5,
   "id": "bf090713",
   "metadata": {},
   "outputs": [
    {
     "name": "stdout",
     "output_type": "stream",
     "text": [
      "No of images in images training set (55000, 784)\n",
      "No of images in label training set (55000, 10)\n",
      "No of images in images test set (10000, 784)\n",
      "No of images in label test set (10000, 10)\n"
     ]
    }
   ],
   "source": [
    "#train-test split\n",
    "#training\n",
    "print(\"No of images in images training set {}\".format(mnist.train.images.shape))\n",
    "print(\"No of images in label training set {}\".format(mnist.train.labels.shape))\n",
    "#test\n",
    "print(\"No of images in images test set {}\".format(mnist.test.images.shape))\n",
    "print(\"No of images in label test set {}\".format(mnist.test.labels.shape))"
   ]
  },
  {
   "cell_type": "code",
   "execution_count": 6,
   "id": "7a0980d7",
   "metadata": {},
   "outputs": [
    {
     "data": {
      "text/plain": [
       "<matplotlib.image.AxesImage at 0x7f97ecbd9690>"
      ]
     },
     "execution_count": 6,
     "metadata": {},
     "output_type": "execute_result"
    },
    {
     "data": {
      "image/png": "[encoded data removed]",
      "text/plain": [
       "<Figure size 432x288 with 1 Axes>"
      ]
     },
     "metadata": {
      "needs_background": "light"
     },
     "output_type": "display_data"
    }
   ],
   "source": [
    "img1 = mnist.train.images[0].reshape(28, 28)\n",
    "plt.imshow(img1, cmap = \"Reds\")"
   ]
  },
  {
   "cell_type": "code",
   "execution_count": 7,
   "id": "450ed2e8",
   "metadata": {},
   "outputs": [],
   "source": [
    "#defining number of neurons in layers\n",
    "num_input = 784\n",
    "num_hidden1 = 512\n",
    "num_hidden2 = 256\n",
    "num_hidden3 = 128\n",
    "num_output = 10"
   ]
  },
  {
   "cell_type": "code",
   "execution_count": 8,
   "id": "f75f7838",
   "metadata": {},
   "outputs": [],
   "source": [
    "#placeholders\n",
    "with tf.name_scope('input'):\n",
    "    X = tf.placeholder(\"float\", [None, num_input])\n",
    "with tf.name_scope(\"output\"):\n",
    "    Y = tf.placeholder(\"float\", [None, num_output])"
   ]
  },
  {
   "cell_type": "code",
   "execution_count": 9,
   "id": "e8dc9371",
   "metadata": {},
   "outputs": [],
   "source": [
    "with tf.name_scope(\"Weights\"):\n",
    "    weights = {\n",
    "        'w1': tf.Variable(tf.truncated_normal([num_input, num_hidden1], stddev = 0.1), name = 'weights_1'),\n",
    "        'w2': tf.Variable(tf.truncated_normal([num_hidden1, num_hidden2], stddev = 0.1), name = 'weights_2'),\n",
    "        'w3': tf.Variable(tf.truncated_normal([num_hidden2, num_hidden3], stddev = 0.1), name = 'weights_3'),\n",
    "        'out': tf.Variable(tf.truncated_normal([num_hidden3, num_output], stddev = 0.1), name = 'weight_4')\n",
    "    }\n",
    "#truncated_normal : it is used to model the probabilities\n",
    "#of the binary outcomes in the probit model and to model censored data in the tobit model."
   ]
  },
  {
   "cell_type": "code",
   "execution_count": 10,
   "id": "36bb8972",
   "metadata": {},
   "outputs": [],
   "source": [
    "#biasing\n",
    "with tf.name_scope('biases'):\n",
    "    biases = {\n",
    "        'b1': tf.Variable(tf.constant(0.1, shape=[num_hidden1]), name = 'bias_1'),\n",
    "        'b2': tf.Variable(tf.constant(0.1, shape=[num_hidden2]), name = 'bias_2'),\n",
    "        'b3': tf.Variable(tf.constant(0.1, shape=[num_hidden3]), name = 'bias_3'),\n",
    "        'out': tf.Variable(tf.constant(0.1, shape=[num_output]), name = 'bias_4'),\n",
    "    }"
   ]
  },
  {
   "cell_type": "code",
   "execution_count": 11,
   "id": "f666d556",
   "metadata": {},
   "outputs": [],
   "source": [
    "#forward propogation\n",
    "#we will use relu functions in all layers\n",
    "\n",
    "with tf.name_scope(\"Model\"):\n",
    "    with tf.name_scope(\"layer1\"):\n",
    "        layer_1 = tf.nn.relu(tf.add(tf.matmul(X, weights['w1']), biases['b1']))\n",
    "    with tf.name_scope(\"layer2\"):\n",
    "        layer_2 = tf.nn.relu(tf.add(tf.matmul(layer_1, weights['w2']), biases['b2']))\n",
    "    with tf.name_scope(\"layer3\"):\n",
    "        layer_3 = tf.nn.relu(tf.add(tf.matmul(layer_2, weights['w3']), biases['b3']))\n",
    "    with tf.name_scope(\"output\"):\n",
    "        y_hat = tf.nn.relu(tf.add(tf.matmul(layer_3, weights['out']), biases['out']))"
   ]
  },
  {
   "cell_type": "code",
   "execution_count": 12,
   "id": "b4784c21",
   "metadata": {},
   "outputs": [],
   "source": [
    "#backpropogation\n",
    "with tf.name_scope(\"Loss\"):\n",
    "    loss = tf.reduce_mean(tf.nn.softmax_cross_entropy_with_logits(logits = y_hat, labels = Y))\n",
    "learning_rate = 1e-4\n",
    "optimizer = tf.train.AdamOptimizer(learning_rate).minimize(loss)"
   ]
  },
  {
   "cell_type": "code",
   "execution_count": 13,
   "id": "c9c7c0e7",
   "metadata": {},
   "outputs": [],
   "source": [
    "#accuracy\n",
    "with tf.name_scope(\"Accuracy\"):\n",
    "    predicted_digit = tf.argmax(y_hat, 1)\n",
    "    actual_digit = tf.argmax(Y, 1)\n",
    "    correct_pred = tf.equal(predicted_digit, actual_digit)\n",
    "    accuracy = tf.reduce_mean(tf.cast(correct_pred, tf.float32))"
   ]
  },
  {
   "cell_type": "code",
   "execution_count": 14,
   "id": "dec3420a",
   "metadata": {},
   "outputs": [],
   "source": [
    "#summary\n",
    "tf.summary.scalar(\"Accuracy\", accuracy)\n",
    "tf.summary.scalar(\"Loss\", loss)\n",
    "merge_summary = tf.summary.merge_all()"
   ]
  },
  {
   "cell_type": "code",
   "execution_count": 15,
   "id": "8baf636f",
   "metadata": {},
   "outputs": [
    {
     "name": "stderr",
     "output_type": "stream",
     "text": [
      "2022-04-30 20:40:56.105319: I tensorflow/core/platform/cpu_feature_guard.cc:145] This TensorFlow binary is optimized with Intel(R) MKL-DNN to use the following CPU instructions in performance critical operations:  SSE4.1 SSE4.2\n",
      "To enable them in non-MKL-DNN operations, rebuild TensorFlow with the appropriate compiler flags.\n",
      "2022-04-30 20:40:56.106136: I tensorflow/core/common_runtime/process_util.cc:115] Creating new thread pool with default inter op setting: 8. Tune using inter_op_parallelism_threads for best performance.\n"
     ]
    },
    {
     "name": "stdout",
     "output_type": "stream",
     "text": [
      "Iteration: 0, Loss:2.453235149383545\n",
      "Iteration: 100, Loss:0.5007684826850891\n",
      "Iteration: 200, Loss:0.45440128445625305\n",
      "Iteration: 300, Loss:0.3276500701904297\n",
      "Iteration: 400, Loss:0.2402748316526413\n",
      "Iteration: 500, Loss:0.25702691078186035\n",
      "Iteration: 600, Loss:0.18414843082427979\n",
      "Iteration: 700, Loss:0.11836256086826324\n",
      "Iteration: 800, Loss:0.1970120668411255\n",
      "Iteration: 900, Loss:0.0916593074798584\n"
     ]
    }
   ],
   "source": [
    "#training the model\n",
    "init = tf.global_variables_initializer()\n",
    "learning_rate = 1e-4\n",
    "num_iterations = 1000\n",
    "batch_size = 128\n",
    "with tf.Session() as sess:\n",
    "    sess.run(init)\n",
    "    summary_writer = tf.summary.FileWriter('./graphs', graph = sess.graph)\n",
    "    for i in range(num_iterations):\n",
    "        batch_x, batch_y = mnist.train.next_batch(batch_size)\n",
    "        sess.run(optimizer, feed_dict= { X: batch_x, Y:batch_y})\n",
    "        if i % 100 == 0:\n",
    "            batch_loss, batch_accuracy, summary = sess.run([loss, accuracy, merge_summary], feed_dict={ X: batch_x, Y:batch_y})\n",
    "            summary_writer.add_summary(summary,i)\n",
    "            print('Iteration: {}, Loss:{}'.format(i, batch_loss,batch_accuracy))"
   ]
  },
  {
   "cell_type": "code",
   "execution_count": null,
   "id": "e140f6df",
   "metadata": {},
   "outputs": [],
   "source": []
  }
 ],
 "metadata": {
  "kernelspec": {
   "display_name": "Python 3 (ipykernel)",
   "language": "python",
   "name": "python3"
  },
  "language_info": {
   "codemirror_mode": {
    "name": "ipython",
    "version": 3
   },
   "file_extension": ".py",
   "mimetype": "text/x-python",
   "name": "python",
   "nbconvert_exporter": "python",
   "pygments_lexer": "ipython3",
   "version": "3.7.11"
  }
 },
 "nbformat": 4,
 "nbformat_minor": 5
}
